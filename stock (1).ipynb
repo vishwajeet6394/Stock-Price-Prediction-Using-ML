{
  "nbformat": 4,
  "nbformat_minor": 0,
  "metadata": {
    "colab": {
      "name": "stock.ipynb",
      "provenance": [],
      "collapsed_sections": []
    },
    "kernelspec": {
      "name": "python3",
      "display_name": "Python 3"
    },
    "language_info": {
      "name": "python"
    },
    "accelerator": "GPU",
    "gpuClass": "standard"
  },
  "cells": [
    {
      "cell_type": "code",
      "execution_count": null,
      "metadata": {
        "id": "GsX6tskA2ijz"
      },
      "outputs": [],
      "source": [
        "import numpy as np \n",
        "import pandas as pd \n",
        "import matplotlib.pyplot as plt \n",
        "from sklearn.preprocessing import MinMaxScaler\n",
        "from keras.models import Sequential\n",
        "from keras.layers import Dense,LSTM,Dropout"
      ]
    },
    {
      "cell_type": "code",
      "source": [
        "from google.colab import drive\n",
        "drive.mount('/content/drive')"
      ],
      "metadata": {
        "colab": {
          "base_uri": "https://localhost:8080/"
        },
        "id": "8awLXMnKdqw8",
        "outputId": "4116e852-99da-4678-aae5-7c704e4d224a"
      },
      "execution_count": null,
      "outputs": [
        {
          "output_type": "stream",
          "name": "stdout",
          "text": [
            "Mounted at /content/drive\n"
          ]
        }
      ]
    },
    {
      "cell_type": "code",
      "source": [
        "data = pd.read_csv('/content/drive/MyDrive/stock_prediction/datasetofstock_market/Google_train_data.csv')\n",
        "data.head()"
      ],
      "metadata": {
        "colab": {
          "base_uri": "https://localhost:8080/",
          "height": 206
        },
        "id": "1CDZD3-MkgN9",
        "outputId": "f609cbb3-6f29-4200-bbb6-4da8c9cb99ae"
      },
      "execution_count": null,
      "outputs": [
        {
          "output_type": "execute_result",
          "data": {
            "text/plain": [
              "       Date    Open    High     Low   Close      Volume\n",
              "0  1/3/2012  325.25  332.83  324.97  663.59   7,380,500\n",
              "1  1/4/2012  331.27  333.87  329.08  666.45   5,749,400\n",
              "2  1/5/2012  329.83  330.75  326.89  657.21   6,590,300\n",
              "3  1/6/2012  328.34  328.77  323.68  648.24   5,405,900\n",
              "4  1/9/2012  322.04  322.29  309.46  620.76  11,688,800"
            ],
            "text/html": [
              "\n",
              "  <div id=\"df-0b1f9460-c925-4588-a8e1-b7afcf04bd07\">\n",
              "    <div class=\"colab-df-container\">\n",
              "      <div>\n",
              "<style scoped>\n",
              "    .dataframe tbody tr th:only-of-type {\n",
              "        vertical-align: middle;\n",
              "    }\n",
              "\n",
              "    .dataframe tbody tr th {\n",
              "        vertical-align: top;\n",
              "    }\n",
              "\n",
              "    .dataframe thead th {\n",
              "        text-align: right;\n",
              "    }\n",
              "</style>\n",
              "<table border=\"1\" class=\"dataframe\">\n",
              "  <thead>\n",
              "    <tr style=\"text-align: right;\">\n",
              "      <th></th>\n",
              "      <th>Date</th>\n",
              "      <th>Open</th>\n",
              "      <th>High</th>\n",
              "      <th>Low</th>\n",
              "      <th>Close</th>\n",
              "      <th>Volume</th>\n",
              "    </tr>\n",
              "  </thead>\n",
              "  <tbody>\n",
              "    <tr>\n",
              "      <th>0</th>\n",
              "      <td>1/3/2012</td>\n",
              "      <td>325.25</td>\n",
              "      <td>332.83</td>\n",
              "      <td>324.97</td>\n",
              "      <td>663.59</td>\n",
              "      <td>7,380,500</td>\n",
              "    </tr>\n",
              "    <tr>\n",
              "      <th>1</th>\n",
              "      <td>1/4/2012</td>\n",
              "      <td>331.27</td>\n",
              "      <td>333.87</td>\n",
              "      <td>329.08</td>\n",
              "      <td>666.45</td>\n",
              "      <td>5,749,400</td>\n",
              "    </tr>\n",
              "    <tr>\n",
              "      <th>2</th>\n",
              "      <td>1/5/2012</td>\n",
              "      <td>329.83</td>\n",
              "      <td>330.75</td>\n",
              "      <td>326.89</td>\n",
              "      <td>657.21</td>\n",
              "      <td>6,590,300</td>\n",
              "    </tr>\n",
              "    <tr>\n",
              "      <th>3</th>\n",
              "      <td>1/6/2012</td>\n",
              "      <td>328.34</td>\n",
              "      <td>328.77</td>\n",
              "      <td>323.68</td>\n",
              "      <td>648.24</td>\n",
              "      <td>5,405,900</td>\n",
              "    </tr>\n",
              "    <tr>\n",
              "      <th>4</th>\n",
              "      <td>1/9/2012</td>\n",
              "      <td>322.04</td>\n",
              "      <td>322.29</td>\n",
              "      <td>309.46</td>\n",
              "      <td>620.76</td>\n",
              "      <td>11,688,800</td>\n",
              "    </tr>\n",
              "  </tbody>\n",
              "</table>\n",
              "</div>\n",
              "      <button class=\"colab-df-convert\" onclick=\"convertToInteractive('df-0b1f9460-c925-4588-a8e1-b7afcf04bd07')\"\n",
              "              title=\"Convert this dataframe to an interactive table.\"\n",
              "              style=\"display:none;\">\n",
              "        \n",
              "  <svg xmlns=\"http://www.w3.org/2000/svg\" height=\"24px\"viewBox=\"0 0 24 24\"\n",
              "       width=\"24px\">\n",
              "    <path d=\"M0 0h24v24H0V0z\" fill=\"none\"/>\n",
              "    <path d=\"M18.56 5.44l.94 2.06.94-2.06 2.06-.94-2.06-.94-.94-2.06-.94 2.06-2.06.94zm-11 1L8.5 8.5l.94-2.06 2.06-.94-2.06-.94L8.5 2.5l-.94 2.06-2.06.94zm10 10l.94 2.06.94-2.06 2.06-.94-2.06-.94-.94-2.06-.94 2.06-2.06.94z\"/><path d=\"M17.41 7.96l-1.37-1.37c-.4-.4-.92-.59-1.43-.59-.52 0-1.04.2-1.43.59L10.3 9.45l-7.72 7.72c-.78.78-.78 2.05 0 2.83L4 21.41c.39.39.9.59 1.41.59.51 0 1.02-.2 1.41-.59l7.78-7.78 2.81-2.81c.8-.78.8-2.07 0-2.86zM5.41 20L4 18.59l7.72-7.72 1.47 1.35L5.41 20z\"/>\n",
              "  </svg>\n",
              "      </button>\n",
              "      \n",
              "  <style>\n",
              "    .colab-df-container {\n",
              "      display:flex;\n",
              "      flex-wrap:wrap;\n",
              "      gap: 12px;\n",
              "    }\n",
              "\n",
              "    .colab-df-convert {\n",
              "      background-color: #E8F0FE;\n",
              "      border: none;\n",
              "      border-radius: 50%;\n",
              "      cursor: pointer;\n",
              "      display: none;\n",
              "      fill: #1967D2;\n",
              "      height: 32px;\n",
              "      padding: 0 0 0 0;\n",
              "      width: 32px;\n",
              "    }\n",
              "\n",
              "    .colab-df-convert:hover {\n",
              "      background-color: #E2EBFA;\n",
              "      box-shadow: 0px 1px 2px rgba(60, 64, 67, 0.3), 0px 1px 3px 1px rgba(60, 64, 67, 0.15);\n",
              "      fill: #174EA6;\n",
              "    }\n",
              "\n",
              "    [theme=dark] .colab-df-convert {\n",
              "      background-color: #3B4455;\n",
              "      fill: #D2E3FC;\n",
              "    }\n",
              "\n",
              "    [theme=dark] .colab-df-convert:hover {\n",
              "      background-color: #434B5C;\n",
              "      box-shadow: 0px 1px 3px 1px rgba(0, 0, 0, 0.15);\n",
              "      filter: drop-shadow(0px 1px 2px rgba(0, 0, 0, 0.3));\n",
              "      fill: #FFFFFF;\n",
              "    }\n",
              "  </style>\n",
              "\n",
              "      <script>\n",
              "        const buttonEl =\n",
              "          document.querySelector('#df-0b1f9460-c925-4588-a8e1-b7afcf04bd07 button.colab-df-convert');\n",
              "        buttonEl.style.display =\n",
              "          google.colab.kernel.accessAllowed ? 'block' : 'none';\n",
              "\n",
              "        async function convertToInteractive(key) {\n",
              "          const element = document.querySelector('#df-0b1f9460-c925-4588-a8e1-b7afcf04bd07');\n",
              "          const dataTable =\n",
              "            await google.colab.kernel.invokeFunction('convertToInteractive',\n",
              "                                                     [key], {});\n",
              "          if (!dataTable) return;\n",
              "\n",
              "          const docLinkHtml = 'Like what you see? Visit the ' +\n",
              "            '<a target=\"_blank\" href=https://colab.research.google.com/notebooks/data_table.ipynb>data table notebook</a>'\n",
              "            + ' to learn more about interactive tables.';\n",
              "          element.innerHTML = '';\n",
              "          dataTable['output_type'] = 'display_data';\n",
              "          await google.colab.output.renderOutput(dataTable, element);\n",
              "          const docLink = document.createElement('div');\n",
              "          docLink.innerHTML = docLinkHtml;\n",
              "          element.appendChild(docLink);\n",
              "        }\n",
              "      </script>\n",
              "    </div>\n",
              "  </div>\n",
              "  "
            ]
          },
          "metadata": {},
          "execution_count": 3
        }
      ]
    },
    {
      "cell_type": "code",
      "source": [
        "data.info()"
      ],
      "metadata": {
        "colab": {
          "base_uri": "https://localhost:8080/"
        },
        "id": "cAYsxmsUl-cq",
        "outputId": "f5ffa17f-b412-4b19-8bef-62a04ecb3179"
      },
      "execution_count": null,
      "outputs": [
        {
          "output_type": "stream",
          "name": "stdout",
          "text": [
            "<class 'pandas.core.frame.DataFrame'>\n",
            "RangeIndex: 1258 entries, 0 to 1257\n",
            "Data columns (total 6 columns):\n",
            " #   Column  Non-Null Count  Dtype  \n",
            "---  ------  --------------  -----  \n",
            " 0   Date    1258 non-null   object \n",
            " 1   Open    1258 non-null   float64\n",
            " 2   High    1258 non-null   float64\n",
            " 3   Low     1258 non-null   float64\n",
            " 4   Close   1258 non-null   object \n",
            " 5   Volume  1258 non-null   object \n",
            "dtypes: float64(3), object(3)\n",
            "memory usage: 59.1+ KB\n"
          ]
        }
      ]
    },
    {
      "cell_type": "code",
      "source": [
        "data[\"Close\"]=pd.to_numeric(data.Close,errors='coerce')\n",
        "data = data.dropna()\n",
        "trainData = data.iloc[:,4:5].values"
      ],
      "metadata": {
        "id": "C6VDV87KmOVQ"
      },
      "execution_count": null,
      "outputs": []
    },
    {
      "cell_type": "code",
      "source": [
        "data.info()"
      ],
      "metadata": {
        "colab": {
          "base_uri": "https://localhost:8080/"
        },
        "id": "ipVgkpN0mY1M",
        "outputId": "5a51a87b-5779-4372-a257-3423a8fd9352"
      },
      "execution_count": null,
      "outputs": [
        {
          "output_type": "stream",
          "name": "stdout",
          "text": [
            "<class 'pandas.core.frame.DataFrame'>\n",
            "Int64Index: 1149 entries, 0 to 1257\n",
            "Data columns (total 6 columns):\n",
            " #   Column  Non-Null Count  Dtype  \n",
            "---  ------  --------------  -----  \n",
            " 0   Date    1149 non-null   object \n",
            " 1   Open    1149 non-null   float64\n",
            " 2   High    1149 non-null   float64\n",
            " 3   Low     1149 non-null   float64\n",
            " 4   Close   1149 non-null   float64\n",
            " 5   Volume  1149 non-null   object \n",
            "dtypes: float64(4), object(2)\n",
            "memory usage: 62.8+ KB\n"
          ]
        }
      ]
    },
    {
      "cell_type": "code",
      "source": [
        "sc = MinMaxScaler(feature_range=(0,1))\n",
        "trainData = sc.fit_transform(trainData)\n",
        "trainData.shape       "
      ],
      "metadata": {
        "colab": {
          "base_uri": "https://localhost:8080/"
        },
        "id": "KCdX0g-Jmwgk",
        "outputId": "9468fd1b-c51b-4c39-ad2b-1bfc322706d4"
      },
      "execution_count": null,
      "outputs": [
        {
          "output_type": "execute_result",
          "data": {
            "text/plain": [
              "(1149, 1)"
            ]
          },
          "metadata": {},
          "execution_count": 7
        }
      ]
    },
    {
      "cell_type": "code",
      "source": [
        "X_train = []\n",
        "y_train = []\n",
        "\n",
        "for i in range (60,1149): #60 : timestep // 1149 : length of the data\n",
        "    X_train.append(trainData[i-60:i,0]) \n",
        "    y_train.append(trainData[i,0])\n",
        "\n",
        "X_train,y_train = np.array(X_train),np.array(y_train)"
      ],
      "metadata": {
        "id": "PlgIbt80naIe"
      },
      "execution_count": null,
      "outputs": []
    },
    {
      "cell_type": "code",
      "source": [
        "#Reshape the data into the shape accepted by the LSTM\n",
        "X_train = np.reshape(X_train,(X_train.shape[0],X_train.shape[1],1)) #adding the batch_size axis\n",
        "X_train.shape"
      ],
      "metadata": {
        "colab": {
          "base_uri": "https://localhost:8080/"
        },
        "id": "9_TbeR4pnnZ8",
        "outputId": "7d2af1c8-4ada-4e5e-9987-38404f60d917"
      },
      "execution_count": null,
      "outputs": [
        {
          "output_type": "execute_result",
          "data": {
            "text/plain": [
              "(1089, 60, 1)"
            ]
          },
          "metadata": {},
          "execution_count": 9
        }
      ]
    },
    {
      "cell_type": "code",
      "source": [
        "#Build the LSTM network model\n",
        "model = Sequential()\n",
        "\n",
        "model.add(LSTM(units=100, return_sequences = True, input_shape =(X_train.shape[1],1)))\n",
        "model.add(Dropout(0.2))\n",
        "\n",
        "model.add(LSTM(units=100, return_sequences = True))\n",
        "model.add(Dropout(0.2))\n",
        "\n",
        "model.add(LSTM(units=100, return_sequences = True))\n",
        "model.add(Dropout(0.2))\n",
        "\n",
        "model.add(LSTM(units=100, return_sequences = False))\n",
        "model.add(Dropout(0.2))\n",
        "\n",
        "model.add(Dense(units =1))\n",
        "model.compile(optimizer='adam',loss=\"mean_squared_error\")"
      ],
      "metadata": {
        "id": "jGbispu9n4ZK"
      },
      "execution_count": null,
      "outputs": []
    },
    {
      "cell_type": "code",
      "source": [
        "hist = model.fit(X_train, y_train, epochs = 20, batch_size = 32, verbose=2)"
      ],
      "metadata": {
        "colab": {
          "base_uri": "https://localhost:8080/"
        },
        "id": "2saCJ5QRoEDx",
        "outputId": "1edadcf3-ef89-48d8-cb56-20189277d521"
      },
      "execution_count": null,
      "outputs": [
        {
          "output_type": "stream",
          "name": "stdout",
          "text": [
            "Epoch 1/20\n",
            "35/35 - 11s - loss: 0.0315 - 11s/epoch - 311ms/step\n",
            "Epoch 2/20\n",
            "35/35 - 0s - loss: 0.0114 - 492ms/epoch - 14ms/step\n",
            "Epoch 3/20\n",
            "35/35 - 0s - loss: 0.0094 - 490ms/epoch - 14ms/step\n",
            "Epoch 4/20\n",
            "35/35 - 1s - loss: 0.0087 - 508ms/epoch - 15ms/step\n",
            "Epoch 5/20\n",
            "35/35 - 1s - loss: 0.0084 - 501ms/epoch - 14ms/step\n",
            "Epoch 6/20\n",
            "35/35 - 1s - loss: 0.0088 - 511ms/epoch - 15ms/step\n",
            "Epoch 7/20\n",
            "35/35 - 1s - loss: 0.0063 - 506ms/epoch - 14ms/step\n",
            "Epoch 8/20\n",
            "35/35 - 0s - loss: 0.0065 - 493ms/epoch - 14ms/step\n",
            "Epoch 9/20\n",
            "35/35 - 1s - loss: 0.0063 - 505ms/epoch - 14ms/step\n",
            "Epoch 10/20\n",
            "35/35 - 1s - loss: 0.0072 - 506ms/epoch - 14ms/step\n",
            "Epoch 11/20\n",
            "35/35 - 0s - loss: 0.0057 - 497ms/epoch - 14ms/step\n",
            "Epoch 12/20\n",
            "35/35 - 1s - loss: 0.0057 - 502ms/epoch - 14ms/step\n",
            "Epoch 13/20\n",
            "35/35 - 1s - loss: 0.0058 - 505ms/epoch - 14ms/step\n",
            "Epoch 14/20\n",
            "35/35 - 0s - loss: 0.0060 - 498ms/epoch - 14ms/step\n",
            "Epoch 15/20\n",
            "35/35 - 1s - loss: 0.0056 - 514ms/epoch - 15ms/step\n",
            "Epoch 16/20\n",
            "35/35 - 0s - loss: 0.0054 - 498ms/epoch - 14ms/step\n",
            "Epoch 17/20\n",
            "35/35 - 0s - loss: 0.0068 - 488ms/epoch - 14ms/step\n",
            "Epoch 18/20\n",
            "35/35 - 1s - loss: 0.0059 - 502ms/epoch - 14ms/step\n",
            "Epoch 19/20\n",
            "35/35 - 0s - loss: 0.0047 - 498ms/epoch - 14ms/step\n",
            "Epoch 20/20\n",
            "35/35 - 1s - loss: 0.0048 - 504ms/epoch - 14ms/step\n"
          ]
        }
      ]
    },
    {
      "cell_type": "code",
      "source": [
        "plt.plot(hist.history['loss'])\n",
        "plt.title('Training model loss')\n",
        "plt.ylabel('loss')\n",
        "plt.xlabel('epoch')\n",
        "plt.legend(['train'], loc='upper left')\n",
        "plt.show()"
      ],
      "metadata": {
        "colab": {
          "base_uri": "https://localhost:8080/",
          "height": 295
        },
        "id": "fFtvEKSAoxqv",
        "outputId": "3fd7b17c-f3e5-41e1-924d-e9db96e6e449"
      },
      "execution_count": null,
      "outputs": [
        {
          "output_type": "display_data",
          "data": {
            "text/plain": [
              "<Figure size 432x288 with 1 Axes>"
            ],
            "image/png": "[encoded data removed]"
          },
          "metadata": {
            "needs_background": "light"
          }
        }
      ]
    },
    {
      "cell_type": "code",
      "source": [
        "testData = pd.read_csv('/content/drive/MyDrive/stock_prediction/datasetofstock_market/Google_test_data.csv')\n",
        "testData[\"Close\"]=pd.to_numeric(testData.Close,errors='coerce')\n",
        "testData = testData.dropna()\n",
        "testData = testData.iloc[:,4:5]\n",
        "y_test = testData.iloc[60:,0:].values \n",
        "#input array for the model\n",
        "inputClosing = testData.iloc[:,0:].values \n",
        "inputClosing_scaled = sc.transform(inputClosing)\n",
        "inputClosing_scaled.shape\n",
        "X_test = []\n",
        "length = len(testData)\n",
        "timestep = 60\n",
        "for i in range(timestep,length):  \n",
        "    X_test.append(inputClosing_scaled[i-timestep:i,0])\n",
        "X_test = np.array(X_test)\n",
        "X_test = np.reshape(X_test,(X_test.shape[0],X_test.shape[1],1))\n",
        "X_test.shape"
      ],
      "metadata": {
        "colab": {
          "base_uri": "https://localhost:8080/"
        },
        "id": "t-tOkX9Qo6Mt",
        "outputId": "88aa411d-a8ac-47ed-c73f-a1d4fbe0fc8c"
      },
      "execution_count": null,
      "outputs": [
        {
          "output_type": "execute_result",
          "data": {
            "text/plain": [
              "(192, 60, 1)"
            ]
          },
          "metadata": {},
          "execution_count": 13
        }
      ]
    },
    {
      "cell_type": "code",
      "source": [
        "y_pred = model.predict(X_test)\n",
        "y_pred"
      ],
      "metadata": {
        "colab": {
          "base_uri": "https://localhost:8080/"
        },
        "id": "2uIvo3AkpOmw",
        "outputId": "fdafcfb2-569a-408f-f97e-60d58aff965b"
      },
      "execution_count": null,
      "outputs": [
        {
          "output_type": "execute_result",
          "data": {
            "text/plain": [
              "array([[1.2010245],\n",
              "       [1.2020853],\n",
              "       [1.2125915],\n",
              "       [1.228474 ],\n",
              "       [1.2402636],\n",
              "       [1.2381508],\n",
              "       [1.2240491],\n",
              "       [1.2065758],\n",
              "       [1.1967391],\n",
              "       [1.1953337],\n",
              "       [1.1892543],\n",
              "       [1.1783549],\n",
              "       [1.1688187],\n",
              "       [1.1600323],\n",
              "       [1.1586137],\n",
              "       [1.1632868],\n",
              "       [1.18117  ],\n",
              "       [1.2082852],\n",
              "       [1.238143 ],\n",
              "       [1.2669768],\n",
              "       [1.2761664],\n",
              "       [1.2708502],\n",
              "       [1.250349 ],\n",
              "       [1.2230996],\n",
              "       [1.2001127],\n",
              "       [1.1886563],\n",
              "       [1.187613 ],\n",
              "       [1.1880997],\n",
              "       [1.1806492],\n",
              "       [1.1695137],\n",
              "       [1.1576374],\n",
              "       [1.1444564],\n",
              "       [1.124724 ],\n",
              "       [1.1007738],\n",
              "       [1.0926526],\n",
              "       [1.1037796],\n",
              "       [1.1256391],\n",
              "       [1.148761 ],\n",
              "       [1.169653 ],\n",
              "       [1.1785741],\n",
              "       [1.1889622],\n",
              "       [1.202735 ],\n",
              "       [1.219127 ],\n",
              "       [1.2341548],\n",
              "       [1.2438647],\n",
              "       [1.2442911],\n",
              "       [1.2342846],\n",
              "       [1.2264993],\n",
              "       [1.2256223],\n",
              "       [1.2326076],\n",
              "       [1.2459098],\n",
              "       [1.2539315],\n",
              "       [1.2554784],\n",
              "       [1.2521046],\n",
              "       [1.2508667],\n",
              "       [1.2477858],\n",
              "       [1.2402313],\n",
              "       [1.2372559],\n",
              "       [1.2472382],\n",
              "       [1.2651472],\n",
              "       [1.2897893],\n",
              "       [1.3184913],\n",
              "       [1.3369718],\n",
              "       [1.3381844],\n",
              "       [1.3256425],\n",
              "       [1.3070358],\n",
              "       [1.2958338],\n",
              "       [1.2938925],\n",
              "       [1.2986988],\n",
              "       [1.3042128],\n",
              "       [1.3091409],\n",
              "       [1.3115927],\n",
              "       [1.3073193],\n",
              "       [1.3018508],\n",
              "       [1.2976902],\n",
              "       [1.297076 ],\n",
              "       [1.2996039],\n",
              "       [1.3046696],\n",
              "       [1.3160594],\n",
              "       [1.3327314],\n",
              "       [1.3538301],\n",
              "       [1.3732843],\n",
              "       [1.3833095],\n",
              "       [1.3837105],\n",
              "       [1.3870028],\n",
              "       [1.3993121],\n",
              "       [1.4165913],\n",
              "       [1.4308167],\n",
              "       [1.4385444],\n",
              "       [1.4401413],\n",
              "       [1.44176  ],\n",
              "       [1.4514037],\n",
              "       [1.4682009],\n",
              "       [1.4788666],\n",
              "       [1.4773496],\n",
              "       [1.4649339],\n",
              "       [1.444825 ],\n",
              "       [1.4224862],\n",
              "       [1.4047105],\n",
              "       [1.399915 ],\n",
              "       [1.4076352],\n",
              "       [1.4233866],\n",
              "       [1.4432822],\n",
              "       [1.4597241],\n",
              "       [1.4689748],\n",
              "       [1.4698201],\n",
              "       [1.4665607],\n",
              "       [1.4628954],\n",
              "       [1.4639693],\n",
              "       [1.4696586],\n",
              "       [1.4787587],\n",
              "       [1.4907072],\n",
              "       [1.502268 ],\n",
              "       [1.514494 ],\n",
              "       [1.529769 ],\n",
              "       [1.5422441],\n",
              "       [1.5516653],\n",
              "       [1.5599756],\n",
              "       [1.5708921],\n",
              "       [1.5529275],\n",
              "       [1.508272 ],\n",
              "       [1.4536551],\n",
              "       [1.4115952],\n",
              "       [1.3898879],\n",
              "       [1.3817016],\n",
              "       [1.3795984],\n",
              "       [1.3793055],\n",
              "       [1.3803939],\n",
              "       [1.3737848],\n",
              "       [1.3584614],\n",
              "       [1.3520671],\n",
              "       [1.3609751],\n",
              "       [1.3752407],\n",
              "       [1.3817476],\n",
              "       [1.3823261],\n",
              "       [1.3803434],\n",
              "       [1.3750426],\n",
              "       [1.3661709],\n",
              "       [1.3563882],\n",
              "       [1.3432844],\n",
              "       [1.32971  ],\n",
              "       [1.3146943],\n",
              "       [1.2828223],\n",
              "       [1.2451599],\n",
              "       [1.2092866],\n",
              "       [1.1820107],\n",
              "       [1.1713102],\n",
              "       [1.1789734],\n",
              "       [1.198    ],\n",
              "       [1.2196939],\n",
              "       [1.2410923],\n",
              "       [1.2581781],\n",
              "       [1.271074 ],\n",
              "       [1.2824684],\n",
              "       [1.2916623],\n",
              "       [1.3000771],\n",
              "       [1.3096792],\n",
              "       [1.3173089],\n",
              "       [1.3138461],\n",
              "       [1.2994869],\n",
              "       [1.2791657],\n",
              "       [1.2602468],\n",
              "       [1.2509735],\n",
              "       [1.2547166],\n",
              "       [1.2698419],\n",
              "       [1.2923385],\n",
              "       [1.3114386],\n",
              "       [1.3251585],\n",
              "       [1.3373652],\n",
              "       [1.3489449],\n",
              "       [1.3587164],\n",
              "       [1.3668692],\n",
              "       [1.3735464],\n",
              "       [1.3762091],\n",
              "       [1.3751256],\n",
              "       [1.3673832],\n",
              "       [1.3578873],\n",
              "       [1.3520095],\n",
              "       [1.3482463],\n",
              "       [1.3443367],\n",
              "       [1.3722017],\n",
              "       [1.4212996],\n",
              "       [1.4688762],\n",
              "       [1.4999876],\n",
              "       [1.5107778],\n",
              "       [1.5025171],\n",
              "       [1.4722449],\n",
              "       [1.4372143],\n",
              "       [1.4092157],\n",
              "       [1.4008173],\n",
              "       [1.403944 ],\n",
              "       [1.4079937]], dtype=float32)"
            ]
          },
          "metadata": {},
          "execution_count": 14
        }
      ]
    },
    {
      "cell_type": "code",
      "source": [
        "predicted_price = sc.inverse_transform(y_pred)"
      ],
      "metadata": {
        "id": "1lZWZFM3pZqp"
      },
      "execution_count": null,
      "outputs": []
    },
    {
      "cell_type": "code",
      "source": [
        "#Let’s plot and visualize the data\n",
        "plt.plot(y_test, color = 'red', label = 'Actual Stock Price')\n",
        "plt.plot(predicted_price, color = 'green', label = 'Predicted Stock Price')\n",
        "plt.title('Google stock price prediction')\n",
        "plt.xlabel('Time')\n",
        "plt.ylabel('Stock Price')\n",
        "plt.legend()\n",
        "plt.show()"
      ],
      "metadata": {
        "colab": {
          "base_uri": "https://localhost:8080/",
          "height": 295
        },
        "id": "hp2vsC6Ypn08",
        "outputId": "1dd77102-c558-4839-df6b-932be16407d5"
      },
      "execution_count": null,
      "outputs": [
        {
          "output_type": "display_data",
          "data": {
            "text/plain": [
              "<Figure size 432x288 with 1 Axes>"
            ],
            "image/png": "[encoded data removed]"
          },
          "metadata": {
            "needs_background": "light"
          }
        }
      ]
    },
    {
      "cell_type": "code",
      "source": [
        ""
      ],
      "metadata": {
        "id": "yW_hosqOq-jh"
      },
      "execution_count": null,
      "outputs": []
    }
  ]
}